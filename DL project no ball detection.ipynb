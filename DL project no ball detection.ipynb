{
 "cells": [
  {
   "cell_type": "markdown",
   "metadata": {},
   "source": [
    " ####                                             DEEP LEARNING PROJECT ON NO BALL DETECTION USING CNN"
   ]
  },
  {
   "cell_type": "markdown",
   "metadata": {},
   "source": [
    "This project helps us to detects the image, whether it is either legal delivery or a No ball.Cricket is a worldwide popular game where different technologies are being used to help the match umpires to make decisions. Often due to the human perception, deciding whether a bowled delivery is a no-ball or legal ball which causes controversy. As only a single ball can change the fate of the game, so it is obvious to make accurate decision regarding no ball . \n",
    "\n",
    "\n",
    "Cricket  is a game of bat and ball where a single\n",
    "delivery can turn the expected winner into loser. So, every\n",
    "delivery is counted as crucial moment for both teams. In every\n",
    "cricket match, umpires are responsible for deciding the\n",
    "approval of a ball bowled by a bowler. There are many\n",
    "scenarios when a delivery is disapproved by umpires. Some of\n",
    "the scenarios are declared as No Ball . A No Ball can be\n",
    "declared for illegal actions by bowlers or fielders. As a\n",
    "consequence of a No Ball, the opposition team gets an extra\n",
    "run and delivery. Furthermore, batsman will not be given out\n",
    "except run out. One of the most common reasons is\n",
    "overstepping of popping crease by front foot during delivering\n",
    "the ball. But the examination of this kind of No Ball requires\n",
    "some minutes in certain cases using television replay. So\n",
    "umpires make their decisions on their perception. But human\n",
    "perception cannot be accurate all the time. Besides, it is not\n",
    "always possible to conclude the accurate judgment because of\n",
    "the limitations of existing technology . In that case, the\n",
    "benefit of doubt goes with the batting team. And this\n",
    "creates mass confusion and debates among the viewers and\n",
    "cricket lovers. "
   ]
  },
  {
   "cell_type": "code",
   "execution_count": null,
   "metadata": {},
   "outputs": [],
   "source": []
  },
  {
   "cell_type": "code",
   "execution_count": 1,
   "metadata": {},
   "outputs": [
    {
     "name": "stderr",
     "output_type": "stream",
     "text": [
      "Using TensorFlow backend.\n"
     ]
    }
   ],
   "source": [
    "import numpy as np\n",
    "import pandas as pd\n",
    "import tensorflow as tf\n",
    "import keras \n",
    "from keras.preprocessing import image\n",
    "from keras.models import Sequential\n",
    "from keras.layers import Dense , Activation , Dropout, Conv2D, MaxPooling2D, Flatten\n",
    "from keras.preprocessing.image import ImageDataGenerator\n"
   ]
  },
  {
   "cell_type": "code",
   "execution_count": 2,
   "metadata": {},
   "outputs": [],
   "source": [
    "model  = Sequential()\n",
    "model.add(Conv2D(32,(2,2), input_shape =(64,64,3)))\n",
    "model.add(Activation ('relu'))\n",
    "model.add(MaxPooling2D (pool_size = (2,2)))\n",
    "\n",
    "model.add(Conv2D( 64,(2,2), padding = 'same'))\n",
    "model.add(Activation('relu'))\n",
    "model.add(MaxPooling2D( pool_size=(2,2)))\n",
    "\n",
    "model.add(Conv2D(128,(2,2), padding = 'same'))\n",
    "model.add(Activation('relu'))\n",
    "model.add(MaxPooling2D (pool_size=(2,2)))\n",
    "\n",
    "model.add(Conv2D(256,(2,2), padding = 'same'))\n",
    "model.add(Activation('relu'))\n",
    "model.add(MaxPooling2D(pool_size=(2,2),strides = (1,1)))\n",
    "\n",
    "model.add(Flatten())\n",
    "model.add(Dense(512))\n",
    "model.add(Activation('relu'))\n",
    "model.add(Dropout(0.1))\n",
    "\n",
    "model.add(Dense(2))\n",
    "model.add(Activation('sigmoid'))\n",
    "\n",
    "model.compile (loss = 'binary_crossentropy', optimizer = 'Adam', metrics = ['accuracy'])\n"
   ]
  },
  {
   "cell_type": "code",
   "execution_count": 7,
   "metadata": {},
   "outputs": [
    {
     "name": "stdout",
     "output_type": "stream",
     "text": [
      "Found 180 images belonging to 2 classes.\n",
      "Found 60 images belonging to 2 classes.\n",
      "Epoch 1/8\n",
      "800/800 [==============================] - 521s 652ms/step - loss: 6.4678e-06 - accuracy: 1.0000 - val_loss: 1.4818 - val_accuracy: 0.8167\n",
      "Epoch 2/8\n",
      "800/800 [==============================] - 518s 648ms/step - loss: 1.1534e-06 - accuracy: 1.0000 - val_loss: 2.3572 - val_accuracy: 0.8000\n",
      "Epoch 3/8\n",
      "800/800 [==============================] - 528s 660ms/step - loss: 2.9093e-07 - accuracy: 1.0000 - val_loss: 0.9251 - val_accuracy: 0.8000\n",
      "Epoch 4/8\n",
      "800/800 [==============================] - 523s 654ms/step - loss: 1.3014e-07 - accuracy: 1.0000 - val_loss: 3.5543 - val_accuracy: 0.8000\n",
      "Epoch 5/8\n",
      "800/800 [==============================] - 522s 653ms/step - loss: 7.0273e-08 - accuracy: 1.0000 - val_loss: 3.2032 - val_accuracy: 0.8000\n",
      "Epoch 6/8\n",
      "800/800 [==============================] - 523s 654ms/step - loss: 4.4593e-08 - accuracy: 1.0000 - val_loss: 3.6836 - val_accuracy: 0.8000\n",
      "Epoch 7/8\n",
      "800/800 [==============================] - 524s 655ms/step - loss: 2.4079e-08 - accuracy: 1.0000 - val_loss: 3.4608 - val_accuracy: 0.8000\n",
      "Epoch 8/8\n",
      "800/800 [==============================] - 523s 654ms/step - loss: 1.7726e-08 - accuracy: 1.0000 - val_loss: 2.1515 - val_accuracy: 0.8000\n"
     ]
    }
   ],
   "source": [
    "train_data = ImageDataGenerator(rescale = 1./255)\n",
    "test_data  = ImageDataGenerator(rescale = 1./255)\n",
    "\n",
    "training_data = train_data.flow_from_directory(r\"D:\\study material\\DL_project_datasets\\train\",\n",
    "                                              target_size = (64,64),\n",
    "                                              batch_size = 32,\n",
    "                                              class_mode = \"categorical\")\n",
    "\n",
    "testing_data = test_data.flow_from_directory(r\"D:\\study material\\DL_project_datasets\\test\",\n",
    "                                            target_size = (64,64),\n",
    "                                            batch_size = 32,\n",
    "                                            class_mode = \"categorical\")\n",
    "\n",
    "model_summary = model.fit_generator(training_data,steps_per_epoch= 800, epochs = 8,\n",
    "                                    validation_data= testing_data,\n",
    "                                    validation_steps=200)\n",
    "\n"
   ]
  },
  {
   "cell_type": "code",
   "execution_count": 8,
   "metadata": {},
   "outputs": [
    {
     "data": {
      "text/plain": [
       "{'legal_ball': 0, 'no_ball': 1}"
      ]
     },
     "execution_count": 8,
     "metadata": {},
     "output_type": "execute_result"
    }
   ],
   "source": [
    "training_data.class_indices"
   ]
  },
  {
   "cell_type": "code",
   "execution_count": 13,
   "metadata": {},
   "outputs": [
    {
     "name": "stdout",
     "output_type": "stream",
     "text": [
      "no_ball\n"
     ]
    }
   ],
   "source": [
    "test_image = image.load_img(r'D:\\study material\\DL_project_datasets\\test\\no_ball\\images (4).jpg',\n",
    "                            target_size = (64, 64))\n",
    "test_image = image.img_to_array(test_image)\n",
    "test_image = np.expand_dims(test_image, axis = 0)\n",
    "result = model.predict(test_image)\n",
    "\n",
    "if result[0][0] == 1:\n",
    "    print('legal_ball')\n",
    "elif result[0][1]==1:\n",
    "    print('no_ball')\n",
    "\n",
    "    "
   ]
  },
  {
   "cell_type": "code",
   "execution_count": 11,
   "metadata": {},
   "outputs": [
    {
     "data": {
      "text/html": [
       "<div>\n",
       "<style scoped>\n",
       "    .dataframe tbody tr th:only-of-type {\n",
       "        vertical-align: middle;\n",
       "    }\n",
       "\n",
       "    .dataframe tbody tr th {\n",
       "        vertical-align: top;\n",
       "    }\n",
       "\n",
       "    .dataframe thead th {\n",
       "        text-align: right;\n",
       "    }\n",
       "</style>\n",
       "<table border=\"1\" class=\"dataframe\">\n",
       "  <thead>\n",
       "    <tr style=\"text-align: right;\">\n",
       "      <th></th>\n",
       "      <th>val_loss</th>\n",
       "      <th>val_accuracy</th>\n",
       "      <th>loss</th>\n",
       "      <th>accuracy</th>\n",
       "    </tr>\n",
       "  </thead>\n",
       "  <tbody>\n",
       "    <tr>\n",
       "      <th>0</th>\n",
       "      <td>1.481829</td>\n",
       "      <td>0.816667</td>\n",
       "      <td>6.508220e-06</td>\n",
       "      <td>1.0</td>\n",
       "    </tr>\n",
       "    <tr>\n",
       "      <th>1</th>\n",
       "      <td>2.357207</td>\n",
       "      <td>0.800000</td>\n",
       "      <td>1.157948e-06</td>\n",
       "      <td>1.0</td>\n",
       "    </tr>\n",
       "    <tr>\n",
       "      <th>2</th>\n",
       "      <td>0.925107</td>\n",
       "      <td>0.800000</td>\n",
       "      <td>2.920954e-07</td>\n",
       "      <td>1.0</td>\n",
       "    </tr>\n",
       "    <tr>\n",
       "      <th>3</th>\n",
       "      <td>3.554270</td>\n",
       "      <td>0.800000</td>\n",
       "      <td>1.304135e-07</td>\n",
       "      <td>1.0</td>\n",
       "    </tr>\n",
       "    <tr>\n",
       "      <th>4</th>\n",
       "      <td>3.203150</td>\n",
       "      <td>0.800000</td>\n",
       "      <td>7.070342e-08</td>\n",
       "      <td>1.0</td>\n",
       "    </tr>\n",
       "    <tr>\n",
       "      <th>5</th>\n",
       "      <td>3.683586</td>\n",
       "      <td>0.800000</td>\n",
       "      <td>4.487116e-08</td>\n",
       "      <td>1.0</td>\n",
       "    </tr>\n",
       "    <tr>\n",
       "      <th>6</th>\n",
       "      <td>3.460812</td>\n",
       "      <td>0.800000</td>\n",
       "      <td>2.398301e-08</td>\n",
       "      <td>1.0</td>\n",
       "    </tr>\n",
       "    <tr>\n",
       "      <th>7</th>\n",
       "      <td>2.151546</td>\n",
       "      <td>0.800000</td>\n",
       "      <td>1.777915e-08</td>\n",
       "      <td>1.0</td>\n",
       "    </tr>\n",
       "  </tbody>\n",
       "</table>\n",
       "</div>"
      ],
      "text/plain": [
       "   val_loss  val_accuracy          loss  accuracy\n",
       "0  1.481829      0.816667  6.508220e-06       1.0\n",
       "1  2.357207      0.800000  1.157948e-06       1.0\n",
       "2  0.925107      0.800000  2.920954e-07       1.0\n",
       "3  3.554270      0.800000  1.304135e-07       1.0\n",
       "4  3.203150      0.800000  7.070342e-08       1.0\n",
       "5  3.683586      0.800000  4.487116e-08       1.0\n",
       "6  3.460812      0.800000  2.398301e-08       1.0\n",
       "7  2.151546      0.800000  1.777915e-08       1.0"
      ]
     },
     "execution_count": 11,
     "metadata": {},
     "output_type": "execute_result"
    }
   ],
   "source": [
    "pd.DataFrame(model.history.history)"
   ]
  },
  {
   "cell_type": "code",
   "execution_count": 12,
   "metadata": {},
   "outputs": [
    {
     "data": {
      "image/png": "[encoded data removed]",
      "text/plain": [
       "<Figure size 432x288 with 1 Axes>"
      ]
     },
     "metadata": {
      "needs_background": "light"
     },
     "output_type": "display_data"
    }
   ],
   "source": [
    "import matplotlib.pyplot as plt\n",
    "plt.figure()\n",
    "plt.plot(model.history.history['accuracy'], color = 'green')\n",
    "plt.plot(model.history.history['val_accuracy'], color = 'blue')\n",
    "plt.title('Accuracy of no_ball/legal_ball')\n",
    "plt.xlabel('Epoch')\n",
    "plt.ylabel('Accuracy')\n",
    "plt.show()"
   ]
  },
  {
   "cell_type": "code",
   "execution_count": 15,
   "metadata": {},
   "outputs": [],
   "source": [
    "model.save('no_ball_detection.h5')"
   ]
  },
  {
   "cell_type": "markdown",
   "metadata": {},
   "source": [
    "#### Conclusion\n",
    "\n",
    "we get a overall validation accuracy of 80% in detecting the image whether no_ball delivery or legal_delivery"
   ]
  },
  {
   "cell_type": "code",
   "execution_count": null,
   "metadata": {},
   "outputs": [],
   "source": []
  }
 ],
 "metadata": {
  "kernelspec": {
   "display_name": "Python 3",
   "language": "python",
   "name": "python3"
  },
  "language_info": {
   "codemirror_mode": {
    "name": "ipython",
    "version": 3
   },
   "file_extension": ".py",
   "mimetype": "text/x-python",
   "name": "python",
   "nbconvert_exporter": "python",
   "pygments_lexer": "ipython3",
   "version": "3.6.9"
  }
 },
 "nbformat": 4,
 "nbformat_minor": 4
}
